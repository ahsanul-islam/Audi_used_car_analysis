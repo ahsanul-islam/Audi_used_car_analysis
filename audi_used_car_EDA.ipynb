{
  "nbformat": 4,
  "nbformat_minor": 0,
  "metadata": {
    "colab": {
      "name": "audi_used_car_EDA.ipynb",
      "provenance": [],
      "collapsed_sections": [],
      "mount_file_id": "https://github.com/ahsanul-islam/audi_used_car_analysis/blob/main/audi_used_car_EDA.ipynb",
      "authorship_tag": "ABX9TyONCIYM43XcEw6pOkTMAQ8J",
      "include_colab_link": true
    },
    "kernelspec": {
      "name": "python3",
      "display_name": "Python 3"
    },
    "language_info": {
      "name": "python"
    }
  },
  "cells": [
    {
      "cell_type": "markdown",
      "metadata": {
        "id": "view-in-github",
        "colab_type": "text"
      },
      "source": [
        "<a href=\"https://colab.research.google.com/github/ahsanul-islam/Audi_used_car_analysis/blob/main/audi_used_car_EDA.ipynb\" target=\"_parent\"><img src=\"https://colab.research.google.com/assets/colab-badge.svg\" alt=\"Open In Colab\"/></a>"
      ]
    },
    {
      "cell_type": "markdown",
      "metadata": {
        "id": "IQV8V16UU08u"
      },
      "source": [
        "## Importing Libraries"
      ]
    },
    {
      "cell_type": "code",
      "metadata": {
        "id": "bcSWhXLWTXFn"
      },
      "source": [
        "import numpy as np\n",
        "import pandas as pd\n",
        "import matplotlib.pyplot as plt\n",
        "import seaborn as sns"
      ],
      "execution_count": 1,
      "outputs": []
    },
    {
      "cell_type": "markdown",
      "metadata": {
        "id": "2WJoQXaYU7xN"
      },
      "source": [
        "## Loading Data sets"
      ]
    },
    {
      "cell_type": "code",
      "metadata": {
        "id": "CJdNrEOXVAtM",
        "colab": {
          "base_uri": "https://localhost:8080/",
          "height": 198
        },
        "outputId": "ba4ccc4a-5f1b-4b42-ae4b-43bbfdddaf7a"
      },
      "source": [
        "df = pd.read_csv(r'/content/drive/MyDrive/Colab Notebooks/Data sets/EMK_WORKSHOP/audi.csv')\n",
        "display(df.head())"
      ],
      "execution_count": 2,
      "outputs": [
        {
          "output_type": "display_data",
          "data": {
            "text/html": [
              "<div>\n",
              "<style scoped>\n",
              "    .dataframe tbody tr th:only-of-type {\n",
              "        vertical-align: middle;\n",
              "    }\n",
              "\n",
              "    .dataframe tbody tr th {\n",
              "        vertical-align: top;\n",
              "    }\n",
              "\n",
              "    .dataframe thead th {\n",
              "        text-align: right;\n",
              "    }\n",
              "</style>\n",
              "<table border=\"1\" class=\"dataframe\">\n",
              "  <thead>\n",
              "    <tr style=\"text-align: right;\">\n",
              "      <th></th>\n",
              "      <th>model</th>\n",
              "      <th>year</th>\n",
              "      <th>price</th>\n",
              "      <th>transmission</th>\n",
              "      <th>mileage</th>\n",
              "      <th>fuelType</th>\n",
              "      <th>mpg</th>\n",
              "      <th>engineSize</th>\n",
              "    </tr>\n",
              "  </thead>\n",
              "  <tbody>\n",
              "    <tr>\n",
              "      <th>0</th>\n",
              "      <td>A1</td>\n",
              "      <td>2017</td>\n",
              "      <td>12500</td>\n",
              "      <td>Manual</td>\n",
              "      <td>15735</td>\n",
              "      <td>Petrol</td>\n",
              "      <td>55.4</td>\n",
              "      <td>1.4</td>\n",
              "    </tr>\n",
              "    <tr>\n",
              "      <th>1</th>\n",
              "      <td>A6</td>\n",
              "      <td>2016</td>\n",
              "      <td>16500</td>\n",
              "      <td>Automatic</td>\n",
              "      <td>36203</td>\n",
              "      <td>Diesel</td>\n",
              "      <td>64.2</td>\n",
              "      <td>2.0</td>\n",
              "    </tr>\n",
              "    <tr>\n",
              "      <th>2</th>\n",
              "      <td>A1</td>\n",
              "      <td>2016</td>\n",
              "      <td>11000</td>\n",
              "      <td>Manual</td>\n",
              "      <td>29946</td>\n",
              "      <td>Petrol</td>\n",
              "      <td>55.4</td>\n",
              "      <td>1.4</td>\n",
              "    </tr>\n",
              "    <tr>\n",
              "      <th>3</th>\n",
              "      <td>A4</td>\n",
              "      <td>2017</td>\n",
              "      <td>16800</td>\n",
              "      <td>Automatic</td>\n",
              "      <td>25952</td>\n",
              "      <td>Diesel</td>\n",
              "      <td>67.3</td>\n",
              "      <td>2.0</td>\n",
              "    </tr>\n",
              "    <tr>\n",
              "      <th>4</th>\n",
              "      <td>A3</td>\n",
              "      <td>2019</td>\n",
              "      <td>17300</td>\n",
              "      <td>Manual</td>\n",
              "      <td>1998</td>\n",
              "      <td>Petrol</td>\n",
              "      <td>49.6</td>\n",
              "      <td>1.0</td>\n",
              "    </tr>\n",
              "  </tbody>\n",
              "</table>\n",
              "</div>"
            ],
            "text/plain": [
              "  model  year  price transmission  mileage fuelType   mpg  engineSize\n",
              "0    A1  2017  12500       Manual    15735   Petrol  55.4         1.4\n",
              "1    A6  2016  16500    Automatic    36203   Diesel  64.2         2.0\n",
              "2    A1  2016  11000       Manual    29946   Petrol  55.4         1.4\n",
              "3    A4  2017  16800    Automatic    25952   Diesel  67.3         2.0\n",
              "4    A3  2019  17300       Manual     1998   Petrol  49.6         1.0"
            ]
          },
          "metadata": {
            "tags": []
          }
        }
      ]
    },
    {
      "cell_type": "markdown",
      "metadata": {
        "id": "ciliCvA6eKt1"
      },
      "source": [
        "## Information about the dataset"
      ]
    },
    {
      "cell_type": "code",
      "metadata": {
        "colab": {
          "base_uri": "https://localhost:8080/"
        },
        "id": "VvKNK5eueRMC",
        "outputId": "8bd9f35c-2f47-4708-8803-06527fbc9c21"
      },
      "source": [
        "print(df.info())"
      ],
      "execution_count": 3,
      "outputs": [
        {
          "output_type": "stream",
          "text": [
            "<class 'pandas.core.frame.DataFrame'>\n",
            "RangeIndex: 10668 entries, 0 to 10667\n",
            "Data columns (total 8 columns):\n",
            " #   Column        Non-Null Count  Dtype  \n",
            "---  ------        --------------  -----  \n",
            " 0   model         10668 non-null  object \n",
            " 1   year          10668 non-null  int64  \n",
            " 2   price         10668 non-null  int64  \n",
            " 3   transmission  10668 non-null  object \n",
            " 4   mileage       10668 non-null  int64  \n",
            " 5   fuelType      10668 non-null  object \n",
            " 6   mpg           10668 non-null  float64\n",
            " 7   engineSize    10668 non-null  float64\n",
            "dtypes: float64(2), int64(3), object(3)\n",
            "memory usage: 666.9+ KB\n",
            "None\n"
          ],
          "name": "stdout"
        }
      ]
    },
    {
      "cell_type": "markdown",
      "metadata": {
        "id": "y0MTwSILeldl"
      },
      "source": [
        "## Insights about the data\n",
        "\n",
        "From the dataset it is observed that there are 8 columns. There are 4 categorical data.These are 'model', 'year', 'transmission', 'fuelType'. The other ones are numerical data. So there can be 3 barplot each for the categorical data."
      ]
    },
    {
      "cell_type": "markdown",
      "metadata": {
        "id": "pKxkpdgDhTT4"
      },
      "source": [
        "## Function for counting unique values"
      ]
    },
    {
      "cell_type": "code",
      "metadata": {
        "id": "cjsh5rVRhbLN"
      },
      "source": [
        "def Unique_value_counts(data,col_names):\n",
        "  dic = dict()\n",
        "  for j in col_names:\n",
        "    dic[j]=list()\n",
        "  for i in col_names:\n",
        "    dic[i].append(len(data[i].unique()))\n",
        "  return dic\n",
        "u_v = Unique_value_counts(df,['model','year','transmission','fuelType'])"
      ],
      "execution_count": 4,
      "outputs": []
    },
    {
      "cell_type": "markdown",
      "metadata": {
        "id": "vqBEiFywtchv"
      },
      "source": [
        "## Data Frame of Unique Values"
      ]
    },
    {
      "cell_type": "code",
      "metadata": {
        "colab": {
          "base_uri": "https://localhost:8080/",
          "height": 78
        },
        "id": "Ze5fUPl9ixqD",
        "outputId": "0e7ee976-41cf-45c1-b157-e05a22a30564"
      },
      "source": [
        "unique_values_dataframe=pd.DataFrame.from_dict(u_v,orient='columns')\n",
        "display(unique_values_dataframe)"
      ],
      "execution_count": 5,
      "outputs": [
        {
          "output_type": "display_data",
          "data": {
            "text/html": [
              "<div>\n",
              "<style scoped>\n",
              "    .dataframe tbody tr th:only-of-type {\n",
              "        vertical-align: middle;\n",
              "    }\n",
              "\n",
              "    .dataframe tbody tr th {\n",
              "        vertical-align: top;\n",
              "    }\n",
              "\n",
              "    .dataframe thead th {\n",
              "        text-align: right;\n",
              "    }\n",
              "</style>\n",
              "<table border=\"1\" class=\"dataframe\">\n",
              "  <thead>\n",
              "    <tr style=\"text-align: right;\">\n",
              "      <th></th>\n",
              "      <th>model</th>\n",
              "      <th>year</th>\n",
              "      <th>transmission</th>\n",
              "      <th>fuelType</th>\n",
              "    </tr>\n",
              "  </thead>\n",
              "  <tbody>\n",
              "    <tr>\n",
              "      <th>0</th>\n",
              "      <td>26</td>\n",
              "      <td>21</td>\n",
              "      <td>3</td>\n",
              "      <td>3</td>\n",
              "    </tr>\n",
              "  </tbody>\n",
              "</table>\n",
              "</div>"
            ],
            "text/plain": [
              "   model  year  transmission  fuelType\n",
              "0     26    21             3         3"
            ]
          },
          "metadata": {
            "tags": []
          }
        }
      ]
    },
    {
      "cell_type": "markdown",
      "metadata": {
        "id": "_DroPQzcvaSQ"
      },
      "source": [
        "## Function for value counting for each category"
      ]
    },
    {
      "cell_type": "code",
      "metadata": {
        "id": "Y9Q8NSRSvyDv"
      },
      "source": [
        "def value_counts_in_percentage(df,col_name):\n",
        "  count_val = pd.DataFrame(df[col_name].value_counts())\n",
        "  count_val=count_val.reset_index()\n",
        "  count_val=count_val.rename(columns={'index': col_name,col_name:'Percentage (%) of Cars'})\n",
        "  count_val['Percentage (%) of Cars']=np.round(count_val['Percentage (%) of Cars']/count_val['Percentage (%) of Cars'].sum(),4)*100\n",
        "  return count_val"
      ],
      "execution_count": 6,
      "outputs": []
    },
    {
      "cell_type": "markdown",
      "metadata": {
        "id": "hPTu2SDzBBvR"
      },
      "source": [
        "## Function for Barplot"
      ]
    },
    {
      "cell_type": "code",
      "metadata": {
        "id": "NOw3clL80YUF"
      },
      "source": [
        "def bar_plot(data,color,y_ticks):\n",
        "  columns = list(data.columns)\n",
        "  if len(data)>10:\n",
        "    rotate = 90\n",
        "  else:\n",
        "    rotate = 0\n",
        "\n",
        "  sns.barplot(x = columns[0],y=columns[1],data=data,color=color,alpha=1)\n",
        "  plt.title('Percentage (%) of Present Cars for each {}'.format(columns[0].title()))\n",
        "  plt.xticks(rotation=rotate)\n",
        "  plt.yticks(y_ticks)\n",
        "  plt.xlabel(columns[0].title())\n",
        "  plt.ylabel('Percentage (%) of Cars ')\n",
        "  \n"
      ],
      "execution_count": 7,
      "outputs": []
    },
    {
      "cell_type": "markdown",
      "metadata": {
        "id": "F8zJHuCUBGad"
      },
      "source": [
        "## Barplots Show"
      ]
    },
    {
      "cell_type": "code",
      "metadata": {
        "colab": {
          "base_uri": "https://localhost:8080/",
          "height": 766
        },
        "id": "37Uvwtu81XS-",
        "outputId": "45f5f493-8795-41af-aec4-cb64d7e36320"
      },
      "source": [
        "sns.set_context('talk')\n",
        "plt.figure(figsize=(18,12))\n",
        "plt.subplot(2,2,1)\n",
        "bar_plot(value_counts_in_percentage(df,'model'),'red',np.arange(0,41,10))\n",
        "plt.subplot(2,2,2)\n",
        "bar_plot(value_counts_in_percentage(df,'year'),'green',np.arange(0,41,10))\n",
        "plt.subplot(2,2,3)\n",
        "bar_plot(value_counts_in_percentage(df,'transmission'),'blue',np.arange(0,61,20))\n",
        "plt.subplot(2,2,4)\n",
        "bar_plot(value_counts_in_percentage(df,'fuelType'),'yellow',np.arange(0,61,20))\n",
        "plt.suptitle('Percentage (%) of Cars Present with Respect to Each Category')\n",
        "\n",
        "plt.tight_layout(pad=4, w_pad=2, h_pad=2)\n",
        "plt.show()"
      ],
      "execution_count": 8,
      "outputs": [
        {
          "output_type": "display_data",
          "data": {
            "image/png": "[encoded data removed]",
            "text/plain": [
              "<Figure size 1296x864 with 4 Axes>"
            ]
          },
          "metadata": {
            "tags": [],
            "needs_background": "light"
          }
        }
      ]
    },
    {
      "cell_type": "code",
      "metadata": {
        "id": "LnHUPGPTUf5r"
      },
      "source": [
        ""
      ],
      "execution_count": 8,
      "outputs": []
    }
  ]
}